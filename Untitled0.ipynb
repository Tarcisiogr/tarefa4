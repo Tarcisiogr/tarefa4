{
  "nbformat": 4,
  "nbformat_minor": 0,
  "metadata": {
    "colab": {
      "provenance": [],
      "authorship_tag": "ABX9TyPwC6ktdIZXkDADMOL6bSoB",
      "include_colab_link": true
    },
    "kernelspec": {
      "name": "python3",
      "display_name": "Python 3"
    },
    "language_info": {
      "name": "python"
    }
  },
  "cells": [
    {
      "cell_type": "markdown",
      "metadata": {
        "id": "view-in-github",
        "colab_type": "text"
      },
      "source": [
        "<a href=\"https://colab.research.google.com/github/Tarcisiogr/tarefa4/blob/main/Untitled0.ipynb\" target=\"_parent\"><img src=\"https://colab.research.google.com/assets/colab-badge.svg\" alt=\"Open In Colab\"/></a>"
      ]
    },
    {
      "cell_type": "code",
      "execution_count": 1,
      "metadata": {
        "id": "-D0Ex7MtIaUX"
      },
      "outputs": [],
      "source": [
        "import tensorflow as tf\n",
        "import numpy as np\n",
        "from tensorflow import keras"
      ]
    },
    {
      "cell_type": "code",
      "source": [
        "model = tf.keras.Sequential([keras.layers.Dense(units=1, input_shape=[1])])"
      ],
      "metadata": {
        "id": "0UhBwNd1I8jW"
      },
      "execution_count": 2,
      "outputs": []
    },
    {
      "cell_type": "code",
      "source": [
        "model.compile(optimizer='sgd', loss='mean_squared_error')"
      ],
      "metadata": {
        "id": "3zyClyXyJBhw"
      },
      "execution_count": 3,
      "outputs": []
    },
    {
      "cell_type": "code",
      "source": [
        "print(tf.__version__)\n",
        "mnist = tf.keras.datasets.mnist\n",
        "\n",
        "(training_images, training_labels), (test_images, test_labels) = mnist.load_data()\n",
        "training_images=training_images.reshape(60000, 28, 28, 1)\n",
        "training_images=training_images / 255.0\n",
        "test_images = test_images.reshape(10000, 28, 28, 1)\n",
        "test_images=test_images/255.0"
      ],
      "metadata": {
        "colab": {
          "base_uri": "https://localhost:8080/"
        },
        "id": "1ZSGguy1JF7p",
        "outputId": "fbe61edf-fb77-4a04-8bf8-25ac5929530f"
      },
      "execution_count": 4,
      "outputs": [
        {
          "output_type": "stream",
          "name": "stdout",
          "text": [
            "2.8.2\n",
            "Downloading data from https://storage.googleapis.com/tensorflow/tf-keras-datasets/mnist.npz\n",
            "11493376/11490434 [==============================] - 0s 0us/step\n",
            "11501568/11490434 [==============================] - 0s 0us/step\n"
          ]
        }
      ]
    },
    {
      "cell_type": "code",
      "source": [
        "model = tf.keras.models.Sequential([\n",
        "  tf.keras.layers.Conv2D(32, (3,3), activation='relu', input_shape=(28, 28, 1)),\n",
        "  tf.keras.layers.MaxPooling2D(2, 2),\n",
        "  tf.keras.layers.Conv2D(32, (3,3), activation='relu'),\n",
        "  tf.keras.layers.MaxPooling2D(2,2),  \n",
        "  tf.keras.layers.Flatten(),\n",
        "  tf.keras.layers.Dense(128, activation='relu'),\n",
        "  tf.keras.layers.Dense(10, activation='softmax')])"
      ],
      "metadata": {
        "id": "U0HYKFOfJKIk"
      },
      "execution_count": 5,
      "outputs": []
    },
    {
      "cell_type": "code",
      "source": [
        "model.compile(optimizer='adam', loss='sparse_categorical_crossentropy', metrics=['accuracy'])\n",
        "model.fit(training_images, training_labels, epochs=10)\n",
        "test_loss, test_acc = model.evaluate(test_images, test_labels)\n",
        "print(test_acc)"
      ],
      "metadata": {
        "colab": {
          "base_uri": "https://localhost:8080/"
        },
        "id": "ozkP6GsJJPsc",
        "outputId": "e0c7f645-7f45-4a37-96c0-d7874473043b"
      },
      "execution_count": 6,
      "outputs": [
        {
          "output_type": "stream",
          "name": "stdout",
          "text": [
            "Epoch 1/10\n",
            "1875/1875 [==============================] - 28s 15ms/step - loss: 0.1454 - accuracy: 0.9554\n",
            "Epoch 2/10\n",
            "1875/1875 [==============================] - 27s 14ms/step - loss: 0.0460 - accuracy: 0.9855\n",
            "Epoch 3/10\n",
            "1875/1875 [==============================] - 27s 14ms/step - loss: 0.0324 - accuracy: 0.9895\n",
            "Epoch 4/10\n",
            "1875/1875 [==============================] - 27s 14ms/step - loss: 0.0234 - accuracy: 0.9924\n",
            "Epoch 5/10\n",
            "1875/1875 [==============================] - 27s 15ms/step - loss: 0.0187 - accuracy: 0.9941\n",
            "Epoch 6/10\n",
            "1875/1875 [==============================] - 26s 14ms/step - loss: 0.0152 - accuracy: 0.9952\n",
            "Epoch 7/10\n",
            "1875/1875 [==============================] - 26s 14ms/step - loss: 0.0109 - accuracy: 0.9963\n",
            "Epoch 8/10\n",
            "1875/1875 [==============================] - 27s 14ms/step - loss: 0.0097 - accuracy: 0.9966\n",
            "Epoch 9/10\n",
            "1875/1875 [==============================] - 27s 14ms/step - loss: 0.0082 - accuracy: 0.9976\n",
            "Epoch 10/10\n",
            "1875/1875 [==============================] - 26s 14ms/step - loss: 0.0080 - accuracy: 0.9973\n",
            "313/313 [==============================] - 2s 5ms/step - loss: 0.0410 - accuracy: 0.9898\n",
            "0.989799976348877\n"
          ]
        }
      ]
    },
    {
      "cell_type": "code",
      "source": [
        "model.fit(xs, ys, epochs=500)"
      ],
      "metadata": {
        "colab": {
          "base_uri": "https://localhost:8080/",
          "height": 165
        },
        "id": "8zKgtkVxJULb",
        "outputId": "87b4f4b2-5fe1-4311-f290-99c869ca9b6d"
      },
      "execution_count": 8,
      "outputs": [
        {
          "output_type": "error",
          "ename": "NameError",
          "evalue": "ignored",
          "traceback": [
            "\u001b[0;31m---------------------------------------------------------------------------\u001b[0m",
            "\u001b[0;31mNameError\u001b[0m                                 Traceback (most recent call last)",
            "\u001b[0;32m<ipython-input-8-219ddb24f967>\u001b[0m in \u001b[0;36m<module>\u001b[0;34m\u001b[0m\n\u001b[0;32m----> 1\u001b[0;31m \u001b[0mmodel\u001b[0m\u001b[0;34m.\u001b[0m\u001b[0mfit\u001b[0m\u001b[0;34m(\u001b[0m\u001b[0mxs\u001b[0m\u001b[0;34m,\u001b[0m \u001b[0mys\u001b[0m\u001b[0;34m,\u001b[0m \u001b[0mepochs\u001b[0m\u001b[0;34m=\u001b[0m\u001b[0;36m500\u001b[0m\u001b[0;34m)\u001b[0m\u001b[0;34m\u001b[0m\u001b[0;34m\u001b[0m\u001b[0m\n\u001b[0m",
            "\u001b[0;31mNameError\u001b[0m: name 'xs' is not defined"
          ]
        }
      ]
    },
    {
      "cell_type": "code",
      "source": [
        "print(model.predict([0, 5, 10.0]))"
      ],
      "metadata": {
        "id": "jHPq54BOJa9l"
      },
      "execution_count": null,
      "outputs": []
    },
    {
      "cell_type": "code",
      "source": [],
      "metadata": {
        "id": "mrdCgy0pJedb"
      },
      "execution_count": 7,
      "outputs": []
    }
  ]
}